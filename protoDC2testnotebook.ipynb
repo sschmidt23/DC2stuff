{
 "cells": [
  {
   "cell_type": "code",
   "execution_count": 1,
   "metadata": {
    "collapsed": true
   },
   "outputs": [],
   "source": [
    "import sys, os\n",
    "import numpy as np\n",
    "import matplotlib.pyplot as plt\n",
    "%matplotlib inline"
   ]
  },
  {
   "cell_type": "code",
   "execution_count": 2,
   "metadata": {
    "collapsed": true
   },
   "outputs": [],
   "source": [
    "import sys\n",
    "sys.path.insert(0, '/global/common/cori/contrib/lsst/apps/anaconda/py2-envs/DESCQA/lib/python2.7/site-packages')"
   ]
  },
  {
   "cell_type": "code",
   "execution_count": 3,
   "metadata": {
    "collapsed": true
   },
   "outputs": [],
   "source": [
    "#!/global/common/cori/contrib/lsst/apps/anaconda/py2-envs/DESCQA/bin/python "
   ]
  },
  {
   "cell_type": "code",
   "execution_count": 4,
   "metadata": {
    "collapsed": true
   },
   "outputs": [],
   "source": [
    "import subprocess\n",
    "assert u'lsst' in subprocess.check_output(['groups']).decode().split(), 'You need to be in the `lsst` group for this notebook to work'"
   ]
  },
  {
   "cell_type": "code",
   "execution_count": 5,
   "metadata": {
    "collapsed": false
   },
   "outputs": [
    {
     "name": "stdout",
     "output_type": "stream",
     "text": [
      "('GCRCatalogs =', '0.6.9', '|', 'GCR =', '0.6.2')\n"
     ]
    }
   ],
   "source": [
    "import GCRCatalogs\n",
    "\n",
    "## check version\n",
    "print('GCRCatalogs =', GCRCatalogs.__version__, '|' ,'GCR =', GCRCatalogs.GCR.__version__)"
   ]
  },
  {
   "cell_type": "code",
   "execution_count": 6,
   "metadata": {
    "collapsed": false
   },
   "outputs": [
    {
     "name": "stdout",
     "output_type": "stream",
     "text": [
      "buzzard\n",
      "buzzard_high-res\n",
      "buzzard_test\n",
      "dc1\n",
      "protoDC2\n"
     ]
    }
   ],
   "source": [
    "## list all find available catlaogs, sorted by their name\n",
    "\n",
    "print('\\n'.join(sorted(GCRCatalogs.get_available_catalogs())))\n"
   ]
  },
  {
   "cell_type": "code",
   "execution_count": 7,
   "metadata": {
    "collapsed": true
   },
   "outputs": [],
   "source": [
    "## load 'protoDC2' catalog\n",
    "\n",
    "gc = GCRCatalogs.load_catalog('protoDC2')\n"
   ]
  },
  {
   "cell_type": "code",
   "execution_count": 8,
   "metadata": {
    "collapsed": false
   },
   "outputs": [],
   "source": [
    "data = gc.get_quantities(['mag_u_lsst', 'ra', 'dec','mag_i_lsst','redshift','stellar_mass'])\n"
   ]
  },
  {
   "cell_type": "code",
   "execution_count": 9,
   "metadata": {
    "collapsed": false
   },
   "outputs": [
    {
     "name": "stdout",
     "output_type": "stream",
     "text": [
      "10022496\n"
     ]
    }
   ],
   "source": [
    "print len(data['ra'])"
   ]
  },
  {
   "cell_type": "code",
   "execution_count": 10,
   "metadata": {
    "collapsed": false
   },
   "outputs": [
    {
     "data": {
      "text/plain": [
       "(array([  993818.,  1058446.,  1017627.,  1018922.,   919843.,   922605.,\n",
       "          981588.,  1065746.,  1018159.,  1025742.]),\n",
       " array([-2.49999237, -1.9999939 , -1.49999542, -0.99999695, -0.49999847,\n",
       "         0.        ,  0.49999847,  0.99999695,  1.49999542,  1.9999939 ,\n",
       "         2.49999237]),\n",
       " <a list of 10 Patch objects>)"
      ]
     },
     "execution_count": 10,
     "metadata": {},
     "output_type": "execute_result"
    },
    {
     "data": {
      "image/png": "[encoded data removed]",
      "text/plain": [
       "<matplotlib.figure.Figure at 0x7f2635f79790>"
      ]
     },
     "metadata": {},
     "output_type": "display_data"
    }
   ],
   "source": [
    "plt.hist(data['ra'])"
   ]
  },
  {
   "cell_type": "code",
   "execution_count": 11,
   "metadata": {
    "collapsed": false
   },
   "outputs": [
    {
     "data": {
      "text/plain": [
       "(array([  984380.,  1033200.,   944604.,   976762.,   965220.,  1021801.,\n",
       "         1044194.,  1033141.,  1010478.,  1008716.]),\n",
       " array([ -2.49999690e+00,  -1.99999726e+00,  -1.49999762e+00,\n",
       "         -9.99997973e-01,  -4.99998331e-01,   1.31130219e-06,\n",
       "          5.00000954e-01,   1.00000060e+00,   1.50000024e+00,\n",
       "          1.99999988e+00,   2.49999952e+00]),\n",
       " <a list of 10 Patch objects>)"
      ]
     },
     "execution_count": 11,
     "metadata": {},
     "output_type": "execute_result"
    },
    {
     "data": {
      "image/png": "[encoded data removed]",
      "text/plain": [
       "<matplotlib.figure.Figure at 0x7f261ba07050>"
      ]
     },
     "metadata": {},
     "output_type": "display_data"
    }
   ],
   "source": [
    "plt.hist(data['dec'])"
   ]
  },
  {
   "cell_type": "code",
   "execution_count": 32,
   "metadata": {
    "collapsed": false
   },
   "outputs": [
    {
     "name": "stdout",
     "output_type": "stream",
     "text": [
      "Mag_true_Y_lsst_z0, \n",
      "Mag_true_g_lsst_z0, \n",
      "Mag_true_g_sdss_z0, \n",
      "Mag_true_i_lsst_z0, \n",
      "Mag_true_i_sdss_z0, \n",
      "Mag_true_r_lsst_z0, \n",
      "Mag_true_r_sdss_z0, \n",
      "Mag_true_u_lsst_z0, \n",
      "Mag_true_u_sdss_z0, \n",
      "Mag_true_z_lsst_z0, \n",
      "Mag_true_z_sdss_z0, \n",
      "bulge_sersic_index, \n",
      "convergence, \n",
      "dec, \n",
      "dec_true, \n",
      "disk_sersic_index, \n",
      "ellipticity_1, \n",
      "ellipticity_2, \n",
      "galaxy_id, \n",
      "halo_id, \n",
      "halo_mass, \n",
      "is_central, \n",
      "mag_Y_lsst, \n",
      "mag_g_lsst, \n",
      "mag_g_sdss, \n",
      "mag_i_lsst, \n",
      "mag_i_sdss, \n",
      "mag_r_lsst, \n",
      "mag_r_sdss, \n",
      "mag_u_lsst, \n",
      "mag_u_sdss, \n",
      "mag_z_lsst, \n",
      "mag_z_sdss, \n",
      "magnification, \n",
      "position_angle, \n",
      "position_x, \n",
      "position_y, \n",
      "position_z, \n",
      "ra, \n",
      "ra_true, \n",
      "redshift, \n",
      "redshift_true, \n",
      "shear_1, \n",
      "shear_2, \n",
      "size_bulge_true, \n",
      "size_disk_true, \n",
      "size_true, \n",
      "stellar_mass, \n",
      "velocity_x, \n",
      "velocity_y, \n",
      "velocity_z\n"
     ]
    }
   ],
   "source": [
    "print(', \\n'.join(sorted(gc.list_all_quantities())))\n"
   ]
  },
  {
   "cell_type": "code",
   "execution_count": 29,
   "metadata": {
    "collapsed": false
   },
   "outputs": [
    {
     "name": "stdout",
     "output_type": "stream",
     "text": [
      "LSST_filters/diskLuminositiesStellar:LSST_g:observed\n",
      "LSST_filters/diskLuminositiesStellar:LSST_g:observed:dustAtlas\n",
      "LSST_filters/diskLuminositiesStellar:LSST_g:rest\n",
      "LSST_filters/diskLuminositiesStellar:LSST_g:rest:dustAtlas\n",
      "LSST_filters/diskLuminositiesStellar:LSST_i:observed\n",
      "LSST_filters/diskLuminositiesStellar:LSST_i:observed:dustAtlas\n",
      "LSST_filters/diskLuminositiesStellar:LSST_i:rest\n",
      "LSST_filters/diskLuminositiesStellar:LSST_i:rest:dustAtlas\n",
      "LSST_filters/diskLuminositiesStellar:LSST_r:observed\n",
      "LSST_filters/diskLuminositiesStellar:LSST_r:observed:dustAtlas\n",
      "LSST_filters/diskLuminositiesStellar:LSST_r:rest\n",
      "LSST_filters/diskLuminositiesStellar:LSST_r:rest:dustAtlas\n",
      "LSST_filters/diskLuminositiesStellar:LSST_u:observed\n",
      "LSST_filters/diskLuminositiesStellar:LSST_u:observed:dustAtlas\n",
      "LSST_filters/diskLuminositiesStellar:LSST_u:rest\n",
      "LSST_filters/diskLuminositiesStellar:LSST_u:rest:dustAtlas\n",
      "LSST_filters/diskLuminositiesStellar:LSST_y:observed\n",
      "LSST_filters/diskLuminositiesStellar:LSST_y:observed:dustAtlas\n",
      "LSST_filters/diskLuminositiesStellar:LSST_y:rest\n",
      "LSST_filters/diskLuminositiesStellar:LSST_y:rest:dustAtlas\n",
      "LSST_filters/diskLuminositiesStellar:LSST_z:observed\n",
      "LSST_filters/diskLuminositiesStellar:LSST_z:observed:dustAtlas\n",
      "LSST_filters/diskLuminositiesStellar:LSST_z:rest\n",
      "LSST_filters/diskLuminositiesStellar:LSST_z:rest:dustAtlas\n",
      "LSST_filters/magnitude:LSST_g:observed\n",
      "LSST_filters/magnitude:LSST_g:observed:dustAtlas\n",
      "LSST_filters/magnitude:LSST_g:rest\n",
      "LSST_filters/magnitude:LSST_g:rest:dustAtlas\n",
      "LSST_filters/magnitude:LSST_i:observed\n",
      "LSST_filters/magnitude:LSST_i:observed:dustAtlas\n",
      "LSST_filters/magnitude:LSST_i:rest\n",
      "LSST_filters/magnitude:LSST_i:rest:dustAtlas\n",
      "LSST_filters/magnitude:LSST_r:observed\n",
      "LSST_filters/magnitude:LSST_r:observed:dustAtlas\n",
      "LSST_filters/magnitude:LSST_r:rest\n",
      "LSST_filters/magnitude:LSST_r:rest:dustAtlas\n",
      "LSST_filters/magnitude:LSST_u:observed\n",
      "LSST_filters/magnitude:LSST_u:observed:dustAtlas\n",
      "LSST_filters/magnitude:LSST_u:rest\n",
      "LSST_filters/magnitude:LSST_u:rest:dustAtlas\n",
      "LSST_filters/magnitude:LSST_y:observed\n",
      "LSST_filters/magnitude:LSST_y:observed:dustAtlas\n",
      "LSST_filters/magnitude:LSST_y:rest\n",
      "LSST_filters/magnitude:LSST_y:rest:dustAtlas\n",
      "LSST_filters/magnitude:LSST_z:observed\n",
      "LSST_filters/magnitude:LSST_z:observed:dustAtlas\n",
      "LSST_filters/magnitude:LSST_z:rest\n",
      "LSST_filters/magnitude:LSST_z:rest:dustAtlas\n",
      "LSST_filters/spheroidLuminositiesStellar:LSST_g:observed\n",
      "LSST_filters/spheroidLuminositiesStellar:LSST_g:observed:dustAtlas\n",
      "LSST_filters/spheroidLuminositiesStellar:LSST_g:rest\n",
      "LSST_filters/spheroidLuminositiesStellar:LSST_g:rest:dustAtlas\n",
      "LSST_filters/spheroidLuminositiesStellar:LSST_i:observed\n",
      "LSST_filters/spheroidLuminositiesStellar:LSST_i:observed:dustAtlas\n",
      "LSST_filters/spheroidLuminositiesStellar:LSST_i:rest\n",
      "LSST_filters/spheroidLuminositiesStellar:LSST_i:rest:dustAtlas\n",
      "LSST_filters/spheroidLuminositiesStellar:LSST_r:observed\n",
      "LSST_filters/spheroidLuminositiesStellar:LSST_r:observed:dustAtlas\n",
      "LSST_filters/spheroidLuminositiesStellar:LSST_r:rest\n",
      "LSST_filters/spheroidLuminositiesStellar:LSST_r:rest:dustAtlas\n",
      "LSST_filters/spheroidLuminositiesStellar:LSST_u:observed\n",
      "LSST_filters/spheroidLuminositiesStellar:LSST_u:observed:dustAtlas\n",
      "LSST_filters/spheroidLuminositiesStellar:LSST_u:rest\n",
      "LSST_filters/spheroidLuminositiesStellar:LSST_u:rest:dustAtlas\n",
      "LSST_filters/spheroidLuminositiesStellar:LSST_y:observed\n",
      "LSST_filters/spheroidLuminositiesStellar:LSST_y:observed:dustAtlas\n",
      "LSST_filters/spheroidLuminositiesStellar:LSST_y:rest\n",
      "LSST_filters/spheroidLuminositiesStellar:LSST_y:rest:dustAtlas\n",
      "LSST_filters/spheroidLuminositiesStellar:LSST_z:observed\n",
      "LSST_filters/spheroidLuminositiesStellar:LSST_z:observed:dustAtlas\n",
      "LSST_filters/spheroidLuminositiesStellar:LSST_z:rest\n",
      "LSST_filters/spheroidLuminositiesStellar:LSST_z:rest:dustAtlas\n",
      "LSST_filters/totalLuminositiesStellar:LSST_g:observed\n",
      "LSST_filters/totalLuminositiesStellar:LSST_g:observed:dustAtlas\n",
      "LSST_filters/totalLuminositiesStellar:LSST_g:rest\n",
      "LSST_filters/totalLuminositiesStellar:LSST_g:rest:dustAtlas\n",
      "LSST_filters/totalLuminositiesStellar:LSST_i:observed\n",
      "LSST_filters/totalLuminositiesStellar:LSST_i:observed:dustAtlas\n",
      "LSST_filters/totalLuminositiesStellar:LSST_i:rest\n",
      "LSST_filters/totalLuminositiesStellar:LSST_i:rest:dustAtlas\n",
      "LSST_filters/totalLuminositiesStellar:LSST_r:observed\n",
      "LSST_filters/totalLuminositiesStellar:LSST_r:observed:dustAtlas\n",
      "LSST_filters/totalLuminositiesStellar:LSST_r:rest\n",
      "LSST_filters/totalLuminositiesStellar:LSST_r:rest:dustAtlas\n",
      "LSST_filters/totalLuminositiesStellar:LSST_u:observed\n",
      "LSST_filters/totalLuminositiesStellar:LSST_u:observed:dustAtlas\n",
      "LSST_filters/totalLuminositiesStellar:LSST_u:rest\n",
      "LSST_filters/totalLuminositiesStellar:LSST_u:rest:dustAtlas\n",
      "LSST_filters/totalLuminositiesStellar:LSST_y:observed\n",
      "LSST_filters/totalLuminositiesStellar:LSST_y:observed:dustAtlas\n",
      "LSST_filters/totalLuminositiesStellar:LSST_y:rest\n",
      "LSST_filters/totalLuminositiesStellar:LSST_y:rest:dustAtlas\n",
      "LSST_filters/totalLuminositiesStellar:LSST_z:observed\n",
      "LSST_filters/totalLuminositiesStellar:LSST_z:observed:dustAtlas\n",
      "LSST_filters/totalLuminositiesStellar:LSST_z:rest\n",
      "LSST_filters/totalLuminositiesStellar:LSST_z:rest:dustAtlas\n",
      "SDSS_filters/diskLuminositiesStellar:SDSS_g:observed\n",
      "SDSS_filters/diskLuminositiesStellar:SDSS_g:observed:dustAtlas\n",
      "SDSS_filters/diskLuminositiesStellar:SDSS_g:rest\n",
      "SDSS_filters/diskLuminositiesStellar:SDSS_g:rest:dustAtlas\n",
      "SDSS_filters/diskLuminositiesStellar:SDSS_i:observed\n",
      "SDSS_filters/diskLuminositiesStellar:SDSS_i:observed:dustAtlas\n",
      "SDSS_filters/diskLuminositiesStellar:SDSS_i:rest\n",
      "SDSS_filters/diskLuminositiesStellar:SDSS_i:rest:dustAtlas\n",
      "SDSS_filters/diskLuminositiesStellar:SDSS_r:observed\n",
      "SDSS_filters/diskLuminositiesStellar:SDSS_r:observed:dustAtlas\n",
      "SDSS_filters/diskLuminositiesStellar:SDSS_r:rest\n",
      "SDSS_filters/diskLuminositiesStellar:SDSS_r:rest:dustAtlas\n",
      "SDSS_filters/diskLuminositiesStellar:SDSS_u:observed\n",
      "SDSS_filters/diskLuminositiesStellar:SDSS_u:observed:dustAtlas\n",
      "SDSS_filters/diskLuminositiesStellar:SDSS_u:rest\n",
      "SDSS_filters/diskLuminositiesStellar:SDSS_u:rest:dustAtlas\n",
      "SDSS_filters/diskLuminositiesStellar:SDSS_z:observed\n",
      "SDSS_filters/diskLuminositiesStellar:SDSS_z:observed:dustAtlas\n",
      "SDSS_filters/diskLuminositiesStellar:SDSS_z:rest\n",
      "SDSS_filters/diskLuminositiesStellar:SDSS_z:rest:dustAtlas\n",
      "SDSS_filters/magnitude:SDSS_g:observed\n",
      "SDSS_filters/magnitude:SDSS_g:observed:dustAtlas\n",
      "SDSS_filters/magnitude:SDSS_g:rest\n",
      "SDSS_filters/magnitude:SDSS_g:rest:dustAtlas\n",
      "SDSS_filters/magnitude:SDSS_i:observed\n",
      "SDSS_filters/magnitude:SDSS_i:observed:dustAtlas\n",
      "SDSS_filters/magnitude:SDSS_i:rest\n",
      "SDSS_filters/magnitude:SDSS_i:rest:dustAtlas\n",
      "SDSS_filters/magnitude:SDSS_r:observed\n",
      "SDSS_filters/magnitude:SDSS_r:observed:dustAtlas\n",
      "SDSS_filters/magnitude:SDSS_r:rest\n",
      "SDSS_filters/magnitude:SDSS_r:rest:dustAtlas\n",
      "SDSS_filters/magnitude:SDSS_u:observed\n",
      "SDSS_filters/magnitude:SDSS_u:observed:dustAtlas\n",
      "SDSS_filters/magnitude:SDSS_u:rest\n",
      "SDSS_filters/magnitude:SDSS_u:rest:dustAtlas\n",
      "SDSS_filters/magnitude:SDSS_z:observed\n",
      "SDSS_filters/magnitude:SDSS_z:observed:dustAtlas\n",
      "SDSS_filters/magnitude:SDSS_z:rest\n",
      "SDSS_filters/magnitude:SDSS_z:rest:dustAtlas\n",
      "SDSS_filters/spheroidLuminositiesStellar:SDSS_g:observed\n",
      "SDSS_filters/spheroidLuminositiesStellar:SDSS_g:observed:dustAtlas\n",
      "SDSS_filters/spheroidLuminositiesStellar:SDSS_g:rest\n",
      "SDSS_filters/spheroidLuminositiesStellar:SDSS_g:rest:dustAtlas\n",
      "SDSS_filters/spheroidLuminositiesStellar:SDSS_i:observed\n",
      "SDSS_filters/spheroidLuminositiesStellar:SDSS_i:observed:dustAtlas\n",
      "SDSS_filters/spheroidLuminositiesStellar:SDSS_i:rest\n",
      "SDSS_filters/spheroidLuminositiesStellar:SDSS_i:rest:dustAtlas\n",
      "SDSS_filters/spheroidLuminositiesStellar:SDSS_r:observed\n",
      "SDSS_filters/spheroidLuminositiesStellar:SDSS_r:observed:dustAtlas\n",
      "SDSS_filters/spheroidLuminositiesStellar:SDSS_r:rest\n",
      "SDSS_filters/spheroidLuminositiesStellar:SDSS_r:rest:dustAtlas\n",
      "SDSS_filters/spheroidLuminositiesStellar:SDSS_u:observed\n",
      "SDSS_filters/spheroidLuminositiesStellar:SDSS_u:observed:dustAtlas\n",
      "SDSS_filters/spheroidLuminositiesStellar:SDSS_u:rest\n",
      "SDSS_filters/spheroidLuminositiesStellar:SDSS_u:rest:dustAtlas\n",
      "SDSS_filters/spheroidLuminositiesStellar:SDSS_z:observed\n",
      "SDSS_filters/spheroidLuminositiesStellar:SDSS_z:observed:dustAtlas\n",
      "SDSS_filters/spheroidLuminositiesStellar:SDSS_z:rest\n",
      "SDSS_filters/spheroidLuminositiesStellar:SDSS_z:rest:dustAtlas\n",
      "SDSS_filters/totalLuminositiesStellar:SDSS_g:observed\n",
      "SDSS_filters/totalLuminositiesStellar:SDSS_g:observed:dustAtlas\n",
      "SDSS_filters/totalLuminositiesStellar:SDSS_g:rest\n",
      "SDSS_filters/totalLuminositiesStellar:SDSS_g:rest:dustAtlas\n",
      "SDSS_filters/totalLuminositiesStellar:SDSS_i:observed\n",
      "SDSS_filters/totalLuminositiesStellar:SDSS_i:observed:dustAtlas\n",
      "SDSS_filters/totalLuminositiesStellar:SDSS_i:rest\n",
      "SDSS_filters/totalLuminositiesStellar:SDSS_i:rest:dustAtlas\n",
      "SDSS_filters/totalLuminositiesStellar:SDSS_r:observed\n",
      "SDSS_filters/totalLuminositiesStellar:SDSS_r:observed:dustAtlas\n",
      "SDSS_filters/totalLuminositiesStellar:SDSS_r:rest\n",
      "SDSS_filters/totalLuminositiesStellar:SDSS_r:rest:dustAtlas\n",
      "SDSS_filters/totalLuminositiesStellar:SDSS_u:observed\n",
      "SDSS_filters/totalLuminositiesStellar:SDSS_u:observed:dustAtlas\n",
      "SDSS_filters/totalLuminositiesStellar:SDSS_u:rest\n",
      "SDSS_filters/totalLuminositiesStellar:SDSS_u:rest:dustAtlas\n",
      "SDSS_filters/totalLuminositiesStellar:SDSS_z:observed\n",
      "SDSS_filters/totalLuminositiesStellar:SDSS_z:observed:dustAtlas\n",
      "SDSS_filters/totalLuminositiesStellar:SDSS_z:rest\n",
      "SDSS_filters/totalLuminositiesStellar:SDSS_z:rest:dustAtlas\n",
      "SEDs/diskLuminositiesStellar:SED_1000_246:rest\n",
      "SEDs/diskLuminositiesStellar:SED_1000_246:rest:dustAtlas\n",
      "SEDs/diskLuminositiesStellar:SED_11467_1710:rest\n",
      "SEDs/diskLuminositiesStellar:SED_11467_1710:rest:dustAtlas\n",
      "SEDs/diskLuminositiesStellar:SED_1246_306:rest\n",
      "SEDs/diskLuminositiesStellar:SED_1246_306:rest:dustAtlas\n",
      "SEDs/diskLuminositiesStellar:SED_13177_1966:rest\n",
      "SEDs/diskLuminositiesStellar:SED_13177_1966:rest:dustAtlas\n",
      "SEDs/diskLuminositiesStellar:SED_15143_2259:rest\n",
      "SEDs/diskLuminositiesStellar:SED_15143_2259:rest:dustAtlas\n",
      "SEDs/diskLuminositiesStellar:SED_1552_381:rest\n",
      "SEDs/diskLuminositiesStellar:SED_1552_381:rest:dustAtlas\n",
      "SEDs/diskLuminositiesStellar:SED_17402_2596:rest\n",
      "SEDs/diskLuminositiesStellar:SED_17402_2596:rest:dustAtlas\n",
      "SEDs/diskLuminositiesStellar:SED_1933_474:rest\n",
      "SEDs/diskLuminositiesStellar:SED_1933_474:rest:dustAtlas\n",
      "SEDs/diskLuminositiesStellar:SED_2407_591:rest\n",
      "SEDs/diskLuminositiesStellar:SED_2407_591:rest:dustAtlas\n",
      "SEDs/diskLuminositiesStellar:SED_2998_186:rest\n",
      "SEDs/diskLuminositiesStellar:SED_2998_186:rest:dustAtlas\n",
      "SEDs/diskLuminositiesStellar:SED_3184_197:rest\n",
      "SEDs/diskLuminositiesStellar:SED_3184_197:rest:dustAtlas\n",
      "SEDs/diskLuminositiesStellar:SED_3381_209:rest\n",
      "SEDs/diskLuminositiesStellar:SED_3381_209:rest:dustAtlas\n",
      "SEDs/diskLuminositiesStellar:SED_3590_222:rest\n",
      "SEDs/diskLuminositiesStellar:SED_3590_222:rest:dustAtlas\n",
      "SEDs/diskLuminositiesStellar:SED_3812_236:rest\n",
      "SEDs/diskLuminositiesStellar:SED_3812_236:rest:dustAtlas\n",
      "SEDs/diskLuminositiesStellar:SED_4048_251:rest\n",
      "SEDs/diskLuminositiesStellar:SED_4048_251:rest:dustAtlas\n",
      "SEDs/diskLuminositiesStellar:SED_4299_266:rest\n",
      "SEDs/diskLuminositiesStellar:SED_4299_266:rest:dustAtlas\n",
      "SEDs/diskLuminositiesStellar:SED_4565_283:rest\n",
      "SEDs/diskLuminositiesStellar:SED_4565_283:rest:dustAtlas\n",
      "SEDs/diskLuminositiesStellar:SED_4848_300:rest\n",
      "SEDs/diskLuminositiesStellar:SED_4848_300:rest:dustAtlas\n",
      "SEDs/diskLuminositiesStellar:SED_5148_319:rest\n",
      "SEDs/diskLuminositiesStellar:SED_5148_319:rest:dustAtlas\n",
      "SEDs/diskLuminositiesStellar:SED_5467_339:rest\n",
      "SEDs/diskLuminositiesStellar:SED_5467_339:rest:dustAtlas\n",
      "SEDs/diskLuminositiesStellar:SED_5806_360:rest\n",
      "SEDs/diskLuminositiesStellar:SED_5806_360:rest:dustAtlas\n",
      "SEDs/diskLuminositiesStellar:SED_6166_382:rest\n",
      "SEDs/diskLuminositiesStellar:SED_6166_382:rest:dustAtlas\n",
      "SEDs/diskLuminositiesStellar:SED_6548_406:rest\n",
      "SEDs/diskLuminositiesStellar:SED_6548_406:rest:dustAtlas\n",
      "SEDs/diskLuminositiesStellar:SED_6954_431:rest\n",
      "SEDs/diskLuminositiesStellar:SED_6954_431:rest:dustAtlas\n",
      "SEDs/diskLuminositiesStellar:SED_7385_458:rest\n",
      "SEDs/diskLuminositiesStellar:SED_7385_458:rest:dustAtlas\n",
      "SEDs/diskLuminositiesStellar:SED_7843_486:rest\n",
      "SEDs/diskLuminositiesStellar:SED_7843_486:rest:dustAtlas\n",
      "SEDs/diskLuminositiesStellar:SED_8329_517:rest\n",
      "SEDs/diskLuminositiesStellar:SED_8329_517:rest:dustAtlas\n",
      "SEDs/diskLuminositiesStellar:SED_8846_549:rest\n",
      "SEDs/diskLuminositiesStellar:SED_8846_549:rest:dustAtlas\n",
      "SEDs/diskLuminositiesStellar:SED_9395_583:rest\n",
      "SEDs/diskLuminositiesStellar:SED_9395_583:rest:dustAtlas\n",
      "SEDs/diskLuminositiesStellar:SED_9978_1489:rest\n",
      "SEDs/diskLuminositiesStellar:SED_9978_1489:rest:dustAtlas\n",
      "SEDs/spheroidLuminositiesStellar:SED_1000_246:rest\n",
      "SEDs/spheroidLuminositiesStellar:SED_1000_246:rest:dustAtlas\n",
      "SEDs/spheroidLuminositiesStellar:SED_11467_1710:rest\n",
      "SEDs/spheroidLuminositiesStellar:SED_11467_1710:rest:dustAtlas\n",
      "SEDs/spheroidLuminositiesStellar:SED_1246_306:rest\n",
      "SEDs/spheroidLuminositiesStellar:SED_1246_306:rest:dustAtlas\n",
      "SEDs/spheroidLuminositiesStellar:SED_13177_1966:rest\n",
      "SEDs/spheroidLuminositiesStellar:SED_13177_1966:rest:dustAtlas\n",
      "SEDs/spheroidLuminositiesStellar:SED_15143_2259:rest\n",
      "SEDs/spheroidLuminositiesStellar:SED_15143_2259:rest:dustAtlas\n",
      "SEDs/spheroidLuminositiesStellar:SED_1552_381:rest\n",
      "SEDs/spheroidLuminositiesStellar:SED_1552_381:rest:dustAtlas\n",
      "SEDs/spheroidLuminositiesStellar:SED_17402_2596:rest\n",
      "SEDs/spheroidLuminositiesStellar:SED_17402_2596:rest:dustAtlas\n",
      "SEDs/spheroidLuminositiesStellar:SED_1933_474:rest\n",
      "SEDs/spheroidLuminositiesStellar:SED_1933_474:rest:dustAtlas\n",
      "SEDs/spheroidLuminositiesStellar:SED_2407_591:rest\n",
      "SEDs/spheroidLuminositiesStellar:SED_2407_591:rest:dustAtlas\n",
      "SEDs/spheroidLuminositiesStellar:SED_2998_186:rest\n",
      "SEDs/spheroidLuminositiesStellar:SED_2998_186:rest:dustAtlas\n",
      "SEDs/spheroidLuminositiesStellar:SED_3184_197:rest\n",
      "SEDs/spheroidLuminositiesStellar:SED_3184_197:rest:dustAtlas\n",
      "SEDs/spheroidLuminositiesStellar:SED_3381_209:rest\n",
      "SEDs/spheroidLuminositiesStellar:SED_3381_209:rest:dustAtlas\n",
      "SEDs/spheroidLuminositiesStellar:SED_3590_222:rest\n",
      "SEDs/spheroidLuminositiesStellar:SED_3590_222:rest:dustAtlas\n",
      "SEDs/spheroidLuminositiesStellar:SED_3812_236:rest\n",
      "SEDs/spheroidLuminositiesStellar:SED_3812_236:rest:dustAtlas\n",
      "SEDs/spheroidLuminositiesStellar:SED_4048_251:rest\n",
      "SEDs/spheroidLuminositiesStellar:SED_4048_251:rest:dustAtlas\n",
      "SEDs/spheroidLuminositiesStellar:SED_4299_266:rest\n",
      "SEDs/spheroidLuminositiesStellar:SED_4299_266:rest:dustAtlas\n",
      "SEDs/spheroidLuminositiesStellar:SED_4565_283:rest\n",
      "SEDs/spheroidLuminositiesStellar:SED_4565_283:rest:dustAtlas\n",
      "SEDs/spheroidLuminositiesStellar:SED_4848_300:rest\n",
      "SEDs/spheroidLuminositiesStellar:SED_4848_300:rest:dustAtlas\n",
      "SEDs/spheroidLuminositiesStellar:SED_5148_319:rest\n",
      "SEDs/spheroidLuminositiesStellar:SED_5148_319:rest:dustAtlas\n",
      "SEDs/spheroidLuminositiesStellar:SED_5467_339:rest\n",
      "SEDs/spheroidLuminositiesStellar:SED_5467_339:rest:dustAtlas\n",
      "SEDs/spheroidLuminositiesStellar:SED_5806_360:rest\n",
      "SEDs/spheroidLuminositiesStellar:SED_5806_360:rest:dustAtlas\n",
      "SEDs/spheroidLuminositiesStellar:SED_6166_382:rest\n",
      "SEDs/spheroidLuminositiesStellar:SED_6166_382:rest:dustAtlas\n",
      "SEDs/spheroidLuminositiesStellar:SED_6548_406:rest\n",
      "SEDs/spheroidLuminositiesStellar:SED_6548_406:rest:dustAtlas\n",
      "SEDs/spheroidLuminositiesStellar:SED_6954_431:rest\n",
      "SEDs/spheroidLuminositiesStellar:SED_6954_431:rest:dustAtlas\n",
      "SEDs/spheroidLuminositiesStellar:SED_7385_458:rest\n",
      "SEDs/spheroidLuminositiesStellar:SED_7385_458:rest:dustAtlas\n",
      "SEDs/spheroidLuminositiesStellar:SED_7843_486:rest\n",
      "SEDs/spheroidLuminositiesStellar:SED_7843_486:rest:dustAtlas\n",
      "SEDs/spheroidLuminositiesStellar:SED_8329_517:rest\n",
      "SEDs/spheroidLuminositiesStellar:SED_8329_517:rest:dustAtlas\n",
      "SEDs/spheroidLuminositiesStellar:SED_8846_549:rest\n",
      "SEDs/spheroidLuminositiesStellar:SED_8846_549:rest:dustAtlas\n",
      "SEDs/spheroidLuminositiesStellar:SED_9395_583:rest\n",
      "SEDs/spheroidLuminositiesStellar:SED_9395_583:rest:dustAtlas\n",
      "SEDs/spheroidLuminositiesStellar:SED_9978_1489:rest\n",
      "SEDs/spheroidLuminositiesStellar:SED_9978_1489:rest:dustAtlas\n",
      "SEDs/totalLuminositiesStellar:SED_1000_246:rest\n",
      "SEDs/totalLuminositiesStellar:SED_1000_246:rest:dustAtlas\n",
      "SEDs/totalLuminositiesStellar:SED_11467_1710:rest\n",
      "SEDs/totalLuminositiesStellar:SED_11467_1710:rest:dustAtlas\n",
      "SEDs/totalLuminositiesStellar:SED_1246_306:rest\n",
      "SEDs/totalLuminositiesStellar:SED_1246_306:rest:dustAtlas\n",
      "SEDs/totalLuminositiesStellar:SED_13177_1966:rest\n",
      "SEDs/totalLuminositiesStellar:SED_13177_1966:rest:dustAtlas\n",
      "SEDs/totalLuminositiesStellar:SED_15143_2259:rest\n",
      "SEDs/totalLuminositiesStellar:SED_15143_2259:rest:dustAtlas\n",
      "SEDs/totalLuminositiesStellar:SED_1552_381:rest\n",
      "SEDs/totalLuminositiesStellar:SED_1552_381:rest:dustAtlas\n",
      "SEDs/totalLuminositiesStellar:SED_17402_2596:rest\n",
      "SEDs/totalLuminositiesStellar:SED_17402_2596:rest:dustAtlas\n",
      "SEDs/totalLuminositiesStellar:SED_1933_474:rest\n",
      "SEDs/totalLuminositiesStellar:SED_1933_474:rest:dustAtlas\n",
      "SEDs/totalLuminositiesStellar:SED_2407_591:rest\n",
      "SEDs/totalLuminositiesStellar:SED_2407_591:rest:dustAtlas\n",
      "SEDs/totalLuminositiesStellar:SED_2998_186:rest\n",
      "SEDs/totalLuminositiesStellar:SED_2998_186:rest:dustAtlas\n",
      "SEDs/totalLuminositiesStellar:SED_3184_197:rest\n",
      "SEDs/totalLuminositiesStellar:SED_3184_197:rest:dustAtlas\n",
      "SEDs/totalLuminositiesStellar:SED_3381_209:rest\n",
      "SEDs/totalLuminositiesStellar:SED_3381_209:rest:dustAtlas\n",
      "SEDs/totalLuminositiesStellar:SED_3590_222:rest\n",
      "SEDs/totalLuminositiesStellar:SED_3590_222:rest:dustAtlas\n",
      "SEDs/totalLuminositiesStellar:SED_3812_236:rest\n",
      "SEDs/totalLuminositiesStellar:SED_3812_236:rest:dustAtlas\n",
      "SEDs/totalLuminositiesStellar:SED_4048_251:rest\n",
      "SEDs/totalLuminositiesStellar:SED_4048_251:rest:dustAtlas\n",
      "SEDs/totalLuminositiesStellar:SED_4299_266:rest\n",
      "SEDs/totalLuminositiesStellar:SED_4299_266:rest:dustAtlas\n",
      "SEDs/totalLuminositiesStellar:SED_4565_283:rest\n",
      "SEDs/totalLuminositiesStellar:SED_4565_283:rest:dustAtlas\n",
      "SEDs/totalLuminositiesStellar:SED_4848_300:rest\n",
      "SEDs/totalLuminositiesStellar:SED_4848_300:rest:dustAtlas\n",
      "SEDs/totalLuminositiesStellar:SED_5148_319:rest\n",
      "SEDs/totalLuminositiesStellar:SED_5148_319:rest:dustAtlas\n",
      "SEDs/totalLuminositiesStellar:SED_5467_339:rest\n",
      "SEDs/totalLuminositiesStellar:SED_5467_339:rest:dustAtlas\n",
      "SEDs/totalLuminositiesStellar:SED_5806_360:rest\n",
      "SEDs/totalLuminositiesStellar:SED_5806_360:rest:dustAtlas\n",
      "SEDs/totalLuminositiesStellar:SED_6166_382:rest\n",
      "SEDs/totalLuminositiesStellar:SED_6166_382:rest:dustAtlas\n",
      "SEDs/totalLuminositiesStellar:SED_6548_406:rest\n",
      "SEDs/totalLuminositiesStellar:SED_6548_406:rest:dustAtlas\n",
      "SEDs/totalLuminositiesStellar:SED_6954_431:rest\n",
      "SEDs/totalLuminositiesStellar:SED_6954_431:rest:dustAtlas\n",
      "SEDs/totalLuminositiesStellar:SED_7385_458:rest\n",
      "SEDs/totalLuminositiesStellar:SED_7385_458:rest:dustAtlas\n",
      "SEDs/totalLuminositiesStellar:SED_7843_486:rest\n",
      "SEDs/totalLuminositiesStellar:SED_7843_486:rest:dustAtlas\n",
      "SEDs/totalLuminositiesStellar:SED_8329_517:rest\n",
      "SEDs/totalLuminositiesStellar:SED_8329_517:rest:dustAtlas\n",
      "SEDs/totalLuminositiesStellar:SED_8846_549:rest\n",
      "SEDs/totalLuminositiesStellar:SED_8846_549:rest:dustAtlas\n",
      "SEDs/totalLuminositiesStellar:SED_9395_583:rest\n",
      "SEDs/totalLuminositiesStellar:SED_9395_583:rest:dustAtlas\n",
      "SEDs/totalLuminositiesStellar:SED_9978_1489:rest\n",
      "SEDs/totalLuminositiesStellar:SED_9978_1489:rest:dustAtlas\n",
      "ageStatisticsDiskIntegratedSFR\n",
      "ageStatisticsDiskTimeWeightedIntegratedSFR\n",
      "ageStatisticsSpheroidIntegratedSFR\n",
      "ageStatisticsSpheroidTimeWeightedIntegratedSFR\n",
      "blackHoleAccretionRate\n",
      "blackHoleMass\n",
      "convergence\n",
      "dec\n",
      "dec_true\n",
      "diskAbundancesStellarMetals\n",
      "diskMassStellar\n",
      "diskStarFormationRate\n",
      "diskVelocity\n",
      "emissionLines/diskLineLuminosity:balmerAlpha6563:rest\n",
      "emissionLines/diskLineLuminosity:balmerAlpha6563:rest:contam_nitrogenII6584\n",
      "emissionLines/diskLineLuminosity:balmerBeta4861:rest\n",
      "emissionLines/diskLineLuminosity:nitrogenII6584:rest\n",
      "emissionLines/diskLineLuminosity:oxygenII3726:rest\n",
      "emissionLines/diskLineLuminosity:oxygenII3729:rest\n",
      "emissionLines/diskLineLuminosity:oxygenIII4959:rest\n",
      "emissionLines/diskLineLuminosity:oxygenIII5007:rest\n",
      "emissionLines/diskLineLuminosity:sulfurII6716:rest\n",
      "emissionLines/diskLineLuminosity:sulfurII6731:rest\n",
      "emissionLines/spheroidLineLuminosity:balmerAlpha6563:rest\n",
      "emissionLines/spheroidLineLuminosity:balmerAlpha6563:rest:contam_nitrogenII6584\n",
      "emissionLines/spheroidLineLuminosity:balmerBeta4861:rest\n",
      "emissionLines/spheroidLineLuminosity:nitrogenII6584:rest\n",
      "emissionLines/spheroidLineLuminosity:oxygenII3726:rest\n",
      "emissionLines/spheroidLineLuminosity:oxygenII3729:rest\n",
      "emissionLines/spheroidLineLuminosity:oxygenIII4959:rest\n",
      "emissionLines/spheroidLineLuminosity:oxygenIII5007:rest\n",
      "emissionLines/spheroidLineLuminosity:sulfurII6716:rest\n",
      "emissionLines/spheroidLineLuminosity:sulfurII6731:rest\n",
      "emissionLines/totalLineLuminosity:balmerAlpha6563:rest\n",
      "emissionLines/totalLineLuminosity:balmerAlpha6563:rest:contam_nitrogenII6584\n",
      "emissionLines/totalLineLuminosity:balmerBeta4861:rest\n",
      "emissionLines/totalLineLuminosity:nitrogenII6584:rest\n",
      "emissionLines/totalLineLuminosity:oxygenII3726:rest\n",
      "emissionLines/totalLineLuminosity:oxygenII3729:rest\n",
      "emissionLines/totalLineLuminosity:oxygenIII4959:rest\n",
      "emissionLines/totalLineLuminosity:oxygenIII5007:rest\n",
      "emissionLines/totalLineLuminosity:sulfurII6716:rest\n",
      "emissionLines/totalLineLuminosity:sulfurII6731:rest\n",
      "galaxyID\n",
      "hostHaloEigenValue1\n",
      "hostHaloEigenValue2\n",
      "hostHaloEigenValue3\n",
      "hostHaloEigenValueReduced1\n",
      "hostHaloEigenValueReduced2\n",
      "hostHaloEigenValueReduced3\n",
      "hostHaloEigenVector1X\n",
      "hostHaloEigenVector1Y\n",
      "hostHaloEigenVector1Z\n",
      "hostHaloEigenVector2X\n",
      "hostHaloEigenVector2Y\n",
      "hostHaloEigenVector2Z\n",
      "hostHaloEigenVector3X\n",
      "hostHaloEigenVector3Y\n",
      "hostHaloEigenVector3Z\n",
      "hostHaloEigenVectorReduced1X\n",
      "hostHaloEigenVectorReduced1Y\n",
      "hostHaloEigenVectorReduced1Z\n",
      "hostHaloEigenVectorReduced2X\n",
      "hostHaloEigenVectorReduced2Y\n",
      "hostHaloEigenVectorReduced2Z\n",
      "hostHaloEigenVectorReduced3X\n",
      "hostHaloEigenVectorReduced3Y\n",
      "hostHaloEigenVectorReduced3Z\n",
      "hostHaloMass\n",
      "hostHaloSODMass\n",
      "hostHaloSODTag\n",
      "hostHaloTag\n",
      "hostIndex\n",
      "infallHaloMass\n",
      "infallHaloTag\n",
      "infallIndex\n",
      "isCentral\n",
      "lightConeRotation\n",
      "magnification\n",
      "morphology/diskAxisRatio\n",
      "morphology/diskEllipticity\n",
      "morphology/diskEllipticity1\n",
      "morphology/diskEllipticity2\n",
      "morphology/diskHalfLightRadius\n",
      "morphology/diskHalfLightRadiusArcsec\n",
      "morphology/diskMajorAxisArcsec\n",
      "morphology/diskMinorAxisArcsec\n",
      "morphology/diskRadiusArcsec\n",
      "morphology/diskScaleRadius\n",
      "morphology/diskSersicIndex\n",
      "morphology/inclination\n",
      "morphology/positionAngle\n",
      "morphology/spheroidAxisRatio\n",
      "morphology/spheroidEllipticity\n",
      "morphology/spheroidEllipticity1\n",
      "morphology/spheroidEllipticity2\n",
      "morphology/spheroidHalfLightRadius\n",
      "morphology/spheroidHalfLightRadiusArcsec\n",
      "morphology/spheroidMajorAxisArcsec\n",
      "morphology/spheroidMinorAxisArcsec\n",
      "morphology/spheroidRadiusArcsec\n",
      "morphology/spheroidScaleRadius\n",
      "morphology/spheroidSersicIndex\n",
      "morphology/totalEllipticity\n",
      "morphology/totalEllipticity1\n",
      "morphology/totalEllipticity2\n",
      "otherLuminosities/diskHeliumContinuumLuminosity\n",
      "otherLuminosities/diskLuminositiesStellar:B:rest\n",
      "otherLuminosities/diskLuminositiesStellar:B:rest:dustAtlas\n",
      "otherLuminosities/diskLuminositiesStellar:HeliumContinuum:rest\n",
      "otherLuminosities/diskLuminositiesStellar:HeliumContinuum:rest:dustAtlas\n",
      "otherLuminosities/diskLuminositiesStellar:Lyc:rest\n",
      "otherLuminosities/diskLuminositiesStellar:Lyc:rest:dustAtlas\n",
      "otherLuminosities/diskLuminositiesStellar:OxygenContinuum:rest\n",
      "otherLuminosities/diskLuminositiesStellar:OxygenContinuum:rest:dustAtlas\n",
      "otherLuminosities/diskLuminositiesStellar:V:rest\n",
      "otherLuminosities/diskLuminositiesStellar:V:rest:dustAtlas\n",
      "otherLuminosities/diskLymanContinuumLuminosity\n",
      "otherLuminosities/diskOxygenContinuumLuminosity\n",
      "otherLuminosities/spheroidHeliumContinuumLuminosity\n",
      "otherLuminosities/spheroidLuminositiesStellar:B:rest\n",
      "otherLuminosities/spheroidLuminositiesStellar:B:rest:dustAtlas\n",
      "otherLuminosities/spheroidLuminositiesStellar:HeliumContinuum:rest\n",
      "otherLuminosities/spheroidLuminositiesStellar:HeliumContinuum:rest:dustAtlas\n",
      "otherLuminosities/spheroidLuminositiesStellar:Lyc:rest\n",
      "otherLuminosities/spheroidLuminositiesStellar:Lyc:rest:dustAtlas\n",
      "otherLuminosities/spheroidLuminositiesStellar:OxygenContinuum:rest\n",
      "otherLuminosities/spheroidLuminositiesStellar:OxygenContinuum:rest:dustAtlas\n",
      "otherLuminosities/spheroidLuminositiesStellar:V:rest\n",
      "otherLuminosities/spheroidLuminositiesStellar:V:rest:dustAtlas\n",
      "otherLuminosities/spheroidLymanContinuumLuminosity\n",
      "otherLuminosities/spheroidOxygenContinuumLuminosity\n",
      "otherLuminosities/totalHeliumContinuumLuminosity\n",
      "otherLuminosities/totalLuminositiesStellar:B:rest\n",
      "otherLuminosities/totalLuminositiesStellar:B:rest:dustAtlas\n",
      "otherLuminosities/totalLuminositiesStellar:HeliumContinuum:rest\n",
      "otherLuminosities/totalLuminositiesStellar:HeliumContinuum:rest:dustAtlas\n",
      "otherLuminosities/totalLuminositiesStellar:Lyc:rest\n",
      "otherLuminosities/totalLuminositiesStellar:Lyc:rest:dustAtlas\n",
      "otherLuminosities/totalLuminositiesStellar:OxygenContinuum:rest\n",
      "otherLuminosities/totalLuminositiesStellar:OxygenContinuum:rest:dustAtlas\n",
      "otherLuminosities/totalLuminositiesStellar:V:rest\n",
      "otherLuminosities/totalLuminositiesStellar:V:rest:dustAtlas\n",
      "otherLuminosities/totalLymanContinuumLuminosity\n",
      "otherLuminosities/totalOxygenContinuumLuminosity\n",
      "peculiarVelocity\n",
      "placementType\n",
      "ra\n",
      "ra_true\n",
      "redshift\n",
      "redshiftHubble\n",
      "shear1\n",
      "shear2\n",
      "spheroidAbundancesStellarMetals\n",
      "spheroidMassStellar\n",
      "spheroidStarFormationRate\n",
      "spheroidVelocity\n",
      "spinSpin\n",
      "step\n",
      "totalAbundancesStellarMetals\n",
      "totalMassStellar\n",
      "totalStarFormationRate\n",
      "vx\n",
      "vy\n",
      "vz\n",
      "x\n",
      "y\n",
      "z\n"
     ]
    }
   ],
   "source": [
    "print('\\n'.join(sorted(gc.list_all_native_quantities())[:]))\n"
   ]
  },
  {
   "cell_type": "code",
   "execution_count": 14,
   "metadata": {
    "collapsed": true
   },
   "outputs": [],
   "source": [
    "moredata = gc.get_quantities(['totalMassStellar','totalStarFormationRate'])"
   ]
  },
  {
   "cell_type": "code",
   "execution_count": 15,
   "metadata": {
    "collapsed": false
   },
   "outputs": [
    {
     "name": "stdout",
     "output_type": "stream",
     "text": [
      "10022496\n"
     ]
    }
   ],
   "source": [
    "print len(moredata['totalMassStellar'])"
   ]
  },
  {
   "cell_type": "code",
   "execution_count": 16,
   "metadata": {
    "collapsed": true
   },
   "outputs": [],
   "source": [
    "somezs = data['redshift']\n",
    "somesfr = moredata['totalStarFormationRate']"
   ]
  },
  {
   "cell_type": "code",
   "execution_count": 17,
   "metadata": {
    "collapsed": false
   },
   "outputs": [
    {
     "data": {
      "text/plain": [
       "<matplotlib.text.Text at 0x7f261b8c7790>"
      ]
     },
     "execution_count": 17,
     "metadata": {},
     "output_type": "execute_result"
    },
    {
     "data": {
      "image/png": "[encoded data removed]",
      "text/plain": [
       "<matplotlib.figure.Figure at 0x7f261b952050>"
      ]
     },
     "metadata": {},
     "output_type": "display_data"
    }
   ],
   "source": [
    "fig = plt.figure(figsize=(10,10))\n",
    "plt.scatter(somezs[:10000],somesfr[:10000])\n",
    "plt.xlabel(\"redshift\",fontsize=18)\n",
    "plt.ylabel(\"SFR\",fontsize=18)"
   ]
  },
  {
   "cell_type": "code",
   "execution_count": 18,
   "metadata": {
    "collapsed": false
   },
   "outputs": [
    {
     "data": {
      "text/plain": [
       "<matplotlib.text.Text at 0x7f261b9bf450>"
      ]
     },
     "execution_count": 18,
     "metadata": {},
     "output_type": "execute_result"
    },
    {
     "data": {
      "image/png": "[encoded data removed]",
      "text/plain": [
       "<matplotlib.figure.Figure at 0x7f261b87f190>"
      ]
     },
     "metadata": {},
     "output_type": "display_data"
    }
   ],
   "source": [
    "plt.figure(figsize=(12,12))\n",
    "plt.hist(data['redshift'],bins=500)\n",
    "plt.xlabel(\"redshift\",fontsize=18)\n",
    "plt.ylabel(\"N\",fontsize=18)"
   ]
  },
  {
   "cell_type": "code",
   "execution_count": 19,
   "metadata": {
    "collapsed": false
   },
   "outputs": [
    {
     "data": {
      "text/plain": [
       "<matplotlib.text.Text at 0x7f2611959150>"
      ]
     },
     "execution_count": 19,
     "metadata": {},
     "output_type": "execute_result"
    },
    {
     "data": {
      "image/png": "[encoded data removed]",
      "text/plain": [
       "<matplotlib.figure.Figure at 0x7f2611e7fe50>"
      ]
     },
     "metadata": {},
     "output_type": "display_data"
    }
   ],
   "source": [
    "lgsfr = np.log10(moredata['totalStarFormationRate']+1.0)\n",
    "plt.figure(figsize=(10,10))\n",
    "plt.hist(lgsfr,bins=500)\n",
    "plt.xlabel(\"log (SFR+1)\",fontsize=18)\n",
    "plt.ylabel(\"N\",fontsize=18)"
   ]
  },
  {
   "cell_type": "code",
   "execution_count": null,
   "metadata": {
    "collapsed": false
   },
   "outputs": [],
   "source": []
  },
  {
   "cell_type": "code",
   "execution_count": 20,
   "metadata": {
    "collapsed": false
   },
   "outputs": [],
   "source": [
    "mstar = np.log10(moredata['totalMassStellar'])"
   ]
  },
  {
   "cell_type": "code",
   "execution_count": 21,
   "metadata": {
    "collapsed": false
   },
   "outputs": [
    {
     "data": {
      "text/plain": [
       "<matplotlib.text.Text at 0x7f26103b00d0>"
      ]
     },
     "execution_count": 21,
     "metadata": {},
     "output_type": "execute_result"
    },
    {
     "data": {
      "image/png": "[encoded data removed]",
      "text/plain": [
       "<matplotlib.figure.Figure at 0x7f2611e63d50>"
      ]
     },
     "metadata": {},
     "output_type": "display_data"
    }
   ],
   "source": [
    "plt.figure(figsize=(10,10))\n",
    "plt.hist(mstar,bins=250)\n",
    "plt.xlabel(\"log Stellar Mass\",fontsize=18)\n",
    "plt.ylabel(\"N\",fontsize=18)"
   ]
  },
  {
   "cell_type": "code",
   "execution_count": 22,
   "metadata": {
    "collapsed": false
   },
   "outputs": [],
   "source": [
    "origmstar = np.log10(data['stellar_mass'])"
   ]
  },
  {
   "cell_type": "code",
   "execution_count": 23,
   "metadata": {
    "collapsed": false
   },
   "outputs": [
    {
     "data": {
      "text/plain": [
       "<matplotlib.text.Text at 0x7f2610053790>"
      ]
     },
     "execution_count": 23,
     "metadata": {},
     "output_type": "execute_result"
    },
    {
     "data": {
      "image/png": "[encoded data removed]",
      "text/plain": [
       "<matplotlib.figure.Figure at 0x7f2610d981d0>"
      ]
     },
     "metadata": {},
     "output_type": "display_data"
    }
   ],
   "source": [
    "plt.figure(figsize=(10,10))\n",
    "plt.hist(origmstar,bins=250)\n",
    "plt.xlabel(\"log main data Stellar Mass\",fontsize=18)\n",
    "plt.ylabel(\"N\",fontsize=18)"
   ]
  },
  {
   "cell_type": "code",
   "execution_count": 34,
   "metadata": {
    "collapsed": false
   },
   "outputs": [
    {
     "data": {
      "text/plain": [
       "<matplotlib.text.Text at 0x7f260ef40d90>"
      ]
     },
     "execution_count": 34,
     "metadata": {},
     "output_type": "execute_result"
    },
    {
     "data": {
      "image/png": "[encoded data removed]",
      "text/plain": [
       "<matplotlib.figure.Figure at 0x7f260f19a910>"
      ]
     },
     "metadata": {},
     "output_type": "display_data"
    }
   ],
   "source": [
    "fig = plt.figure(figsize=(10,10))\n",
    "ivecs = plt.hist(data['mag_i_lsst'],bins=100)\n",
    "plt.xlabel(\"i mag\",fontsize=18)\n",
    "plt.ylabel(\"N\",fontsize=18)"
   ]
  },
  {
   "cell_type": "code",
   "execution_count": 41,
   "metadata": {
    "collapsed": false
   },
   "outputs": [
    {
     "name": "stdout",
     "output_type": "stream",
     "text": [
      "83\n",
      "25.959926375\n"
     ]
    }
   ],
   "source": [
    "print np.argsort(ivecs[0])[-1]\n",
    "print ivecs[1][83]"
   ]
  },
  {
   "cell_type": "code",
   "execution_count": 25,
   "metadata": {
    "collapsed": true
   },
   "outputs": [],
   "source": [
    "rdata = gc.get_quantities(['mag_r_lsst'])"
   ]
  },
  {
   "cell_type": "code",
   "execution_count": 26,
   "metadata": {
    "collapsed": false
   },
   "outputs": [
    {
     "data": {
      "text/plain": [
       "<matplotlib.text.Text at 0x7f260f6ef750>"
      ]
     },
     "execution_count": 26,
     "metadata": {},
     "output_type": "execute_result"
    },
    {
     "data": {
      "image/png": "[encoded data removed]",
      "text/plain": [
       "<matplotlib.figure.Figure at 0x7f260f70a910>"
      ]
     },
     "metadata": {},
     "output_type": "display_data"
    }
   ],
   "source": [
    "fig = plt.figure(figsize=(10,10))\n",
    "plt.hist(rdata['mag_r_lsst'],bins=100)\n",
    "plt.xlabel(\"r mag\",fontsize=18)\n",
    "plt.ylabel(\"N\",fontsize=18)"
   ]
  },
  {
   "cell_type": "code",
   "execution_count": null,
   "metadata": {
    "collapsed": true
   },
   "outputs": [],
   "source": []
  }
 ],
 "metadata": {
  "kernelspec": {
   "display_name": "Python 2",
   "language": "python",
   "name": "python2"
  },
  "language_info": {
   "codemirror_mode": {
    "name": "ipython",
    "version": 2
   },
   "file_extension": ".py",
   "mimetype": "text/x-python",
   "name": "python",
   "nbconvert_exporter": "python",
   "pygments_lexer": "ipython2",
   "version": "2.7.13"
  }
 },
 "nbformat": 4,
 "nbformat_minor": 2
}
